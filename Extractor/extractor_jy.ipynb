{
 "cells": [
  {
   "cell_type": "code",
   "execution_count": 11,
   "metadata": {},
   "outputs": [],
   "source": [
    "import pdfplumber\n",
    "import pandas as pd\n",
    "from modules import extract_payslip_info"
   ]
  },
  {
   "cell_type": "code",
   "execution_count": 12,
   "metadata": {},
   "outputs": [],
   "source": [
    "with pdfplumber.open('PaySlip1.pdf') as pdf:\n",
    "    text = pdf.pages[0].extract_text()"
   ]
  },
  {
   "cell_type": "code",
   "execution_count": 13,
   "metadata": {},
   "outputs": [
    {
     "name": "stdout",
     "output_type": "stream",
     "text": [
      "[['Earnings', 'Amount', 'Deductions', 'Amount'], ['Basic Pay\\nIcentive Pay\\nHouse Rent Allowance\\nMeal Allowance\\nTotal Earnings', '10000\\n1000\\n400\\n200\\n11600', 'Provident Fund\\nProfesional Tax\\nLoan\\nTotal Deductions\\nNet Pay', '1200\\n500\\n400\\n2100\\n9500']]\n"
     ]
    }
   ],
   "source": [
    "with pdfplumber.open('PaySlip1.pdf') as pdf:\n",
    "    table = pdf.pages[0].extract_table()\n",
    "    print(table)\n",
    "\n",
    "rows = []\n",
    "\n",
    "for row in table[1:]:\n",
    "    subrows = [[] for _ in range(max(len(cell.split('\\n')) for cell in row))]\n",
    "    for i, cell in enumerate(row):\n",
    "        values =  cell.split('\\n')\n",
    "        for j, value in enumerate(values):\n",
    "            subrows[j].append(value)\n",
    "    \n",
    "    rows.extend(subrows)\n",
    "\n",
    "df = pd.DataFrame(rows, columns = table[0])\n",
    "\n",
    "df.to_csv('PaySlip1_table.csv', index = False)\n",
    "    "
   ]
  },
  {
   "cell_type": "code",
   "execution_count": 15,
   "metadata": {},
   "outputs": [
    {
     "data": {
      "text/plain": [
       "{'employee_name': 'Sally Harley',\n",
       " 'basic_pay': 10000.0,\n",
       " 'net_pay': 9500.0,\n",
       " 'house_rent_allowance': 400.0,\n",
       " 'address': 'Zoonodle Inc'}"
      ]
     },
     "execution_count": 15,
     "metadata": {},
     "output_type": "execute_result"
    }
   ],
   "source": [
    "folder = 'Extractions/PDF'\n",
    "extract_payslip_info(text, folder)"
   ]
  }
 ],
 "metadata": {
  "kernelspec": {
   "display_name": "Python 3",
   "language": "python",
   "name": "python3"
  },
  "language_info": {
   "codemirror_mode": {
    "name": "ipython",
    "version": 3
   },
   "file_extension": ".py",
   "mimetype": "text/x-python",
   "name": "python",
   "nbconvert_exporter": "python",
   "pygments_lexer": "ipython3",
   "version": "3.10.4"
  }
 },
 "nbformat": 4,
 "nbformat_minor": 2
}
