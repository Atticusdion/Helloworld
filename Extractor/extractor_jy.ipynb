{
 "cells": [
  {
   "cell_type": "code",
   "execution_count": 14,
   "metadata": {},
   "outputs": [],
   "source": [
    "from PIL import Image\n",
    "import pytesseract\n",
    "import numpy as np"
   ]
  },
  {
   "cell_type": "code",
   "execution_count": 32,
   "metadata": {},
   "outputs": [],
   "source": [
    "image = Image.open('E:\\Helloworld\\Extractor\\W2.jpg')"
   ]
  },
  {
   "cell_type": "code",
   "execution_count": 35,
   "metadata": {},
   "outputs": [],
   "source": [
    "pytesseract.pytesseract.tesseract_cmd = r'C:\\Program Files\\Tesseract-OCR\\tesseract.exe'\n",
    "\n",
    "text = pytesseract.image_to_string(image)"
   ]
  },
  {
   "cell_type": "code",
   "execution_count": 36,
   "metadata": {},
   "outputs": [
    {
     "name": "stdout",
     "output_type": "stream",
     "text": [
      "2020 W-2 and EARNINGS SUMMARY 42>\n",
      "\n",
      "Employee Reference Cx\n",
      "\n",
      "W. 2 Wage and Tax 2020\n",
      "\n",
      "ogy Cor employed records OMB No 1545-0008 This section displays the breakdown of your total gross pay during the tax year and any adjustments\n",
      "@ Control number | Dept. ] Corp. | Employer use only to determine the “Reported W-2 Wages”. These amounts should match your final pay statement of\n",
      "Oooo11 RA/123 A a the tax year, unless your employer made adjustments after your last payroll of the year.\n",
      "\n",
      "© Employer's name, address, and ZIP code\n",
      "SAMPLE COMPANY INC\n",
      "123 MAIN ST\n",
      "ANYWHERE, CA 123456 1234\n",
      "\n",
      "BATCH #12345 1._Your Gross Pay was adjusted as follows to produce your W-2 Statement.\n",
      "[eff Employee's name, address, and ZIP code Wages, Tips, other Social Security Medicare CA. State Wages,\n",
      "JOHN SMITH Compensation Wages Wages Tips, Etc.\n",
      "4234 S MAPLE ST Box 1 of W-2 Box 3 of W-2 Box 5 of W-2 Box 16 of W-2\n",
      "ANYWHERE, CA 123456 Gross Pay 25,000.00 25,000.00 25,000.00 25,000.00\n",
      "\n",
      "— Less Other Cafe 125 000.00 1,000.00 1,000.00 1,000.00\n",
      "ee eee eee Less Cafet25 HSA (W-Box 12) 500.00 500.00 500.00 500.00\n",
      "+ Wages, tps, other comp. [Federal income tax withheld Reported W-2Wages 23,500.00 23,500.00 23,500.00 23,500.00\n",
      "23500.00 1500.00\n",
      "2 Social security wages Social security tax withheld\n",
      "23500.00 1457.00\n",
      "© Medicare wages andtips | @ Medicare tax withheld\n",
      "23500.00 340.75\n",
      "7 Social security tips 8 Allocated tips\n",
      "\n",
      "10 Dependent care benefits\n",
      "\n",
      "2. Employee Name and Address.\n",
      "\n",
      "rome a | JOHN SMITH\n",
      "qe 1 1234 S MAPLE ST\n",
      "a1 ANYWHERE, CA 123456\n",
      "\n",
      "48 State] Employer's state ID nol 16 State wages, tips, etc. ‘Aways Desloiog\n",
      "CA _|12345678901ABC 23500.00 for People”\n",
      "17 State income tax 78 Local wages, tips,\n",
      "800.00\n",
      "\n",
      "¥@ Local income tax 20 Locality name {9 °2020 ADE Kiet\n",
      "\n",
      "Copyright © 2020 ADP, Inc. Alrights reserved. ADP, the ADP Lago, RUN Powered by ADP, and Always Designing for People are registered trademarks of ADP, Inc. ADP, Inc. and is affiliates do not offer investment, ax\n",
      "or legal advice to individuals. Nothing contained in this communication s intended tobe, nor shouldbe construed as, particularized advice or arecommendation or suggestion that you take or not take a particular action.\n",
      "Questions about how laws, regulations, guidance, your plan's provision or services available to participants may apply to you should be directed toyour plan administrator or legal, tax or financial advisor. pe a4 a9/99\n",
      "\n",
      "\n"
     ]
    }
   ],
   "source": [
    "print(text)"
   ]
  }
 ],
 "metadata": {
  "kernelspec": {
   "display_name": "Python 3",
   "language": "python",
   "name": "python3"
  },
  "language_info": {
   "codemirror_mode": {
    "name": "ipython",
    "version": 3
   },
   "file_extension": ".py",
   "mimetype": "text/x-python",
   "name": "python",
   "nbconvert_exporter": "python",
   "pygments_lexer": "ipython3",
   "version": "3.10.4"
  }
 },
 "nbformat": 4,
 "nbformat_minor": 2
}
