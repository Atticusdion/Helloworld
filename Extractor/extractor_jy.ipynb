{
 "cells": [
  {
   "cell_type": "code",
   "execution_count": 14,
   "metadata": {},
   "outputs": [],
   "source": [
    "import pdfplumber\n",
    "import pandas as pd\n",
    "import re"
   ]
  },
  {
   "cell_type": "code",
   "execution_count": null,
   "metadata": {},
   "outputs": [],
   "source": [
    "with pdfplumber.open('PaySlip1.pdf') as pdf:\n",
    "    text = pdf.pages[0].extract_text()\n",
    "\n",
    "print(text)"
   ]
  },
  {
   "cell_type": "code",
   "execution_count": 17,
   "metadata": {},
   "outputs": [
    {
     "name": "stdout",
     "output_type": "stream",
     "text": [
      "[['Earnings', 'Amount', 'Deductions', 'Amount'], ['Basic Pay\\nIcentive Pay\\nHouse Rent Allowance\\nMeal Allowance\\nTotal Earnings', '10000\\n1000\\n400\\n200\\n11600', 'Provident Fund\\nProfesional Tax\\nLoan\\nTotal Deductions\\nNet Pay', '1200\\n500\\n400\\n2100\\n9500']]\n"
     ]
    }
   ],
   "source": [
    "with pdfplumber.open('PaySlip1.pdf') as pdf:\n",
    "    table = pdf.pages[0].extract_table()\n",
    "    print(table)\n",
    "\n",
    "rows = []\n",
    "\n",
    "for row in table[1:]:\n",
    "    subrows = [[] for _ in range(max(len(cell.split('\\n')) for cell in row))]\n",
    "    for i, cell in enumerate(row):\n",
    "        values =  cell.split('\\n')\n",
    "        for j, value in enumerate(values):\n",
    "            subrows[j].append(value)\n",
    "    \n",
    "    rows.extend(subrows)\n",
    "\n",
    "df = pd.DataFrame(rows, columns = table[0])\n",
    "\n",
    "df.to_csv('PaySlip1_table.csv', index = False)\n",
    "    "
   ]
  },
  {
   "cell_type": "code",
   "execution_count": 25,
   "metadata": {},
   "outputs": [],
   "source": [
    "def extract_payslip_info(payslip_text):\n",
    "\n",
    "    lines = payslip_text.split('\\n')\n",
    "    \n",
    "    employee_name = None\n",
    "    basic_pay = None\n",
    "    net_pay = None\n",
    "    house_rent_allowance = None\n",
    "    address = None\n",
    "    \n",
    "    for line in lines:\n",
    "        if 'Employee Name :' in line:\n",
    "            employee_name = line.split('Employee Name :')[1].strip()\n",
    "        \n",
    "        elif 'Basic Pay' in line:\n",
    "            basic_pay = float(re.findall(r'\\d+', line)[0])\n",
    "        \n",
    "        elif 'Net Pay' in line:\n",
    "            net_pay = float(line.split()[2])\n",
    "        \n",
    "        elif 'House Rent Allowance' in line:\n",
    "            house_rent_allowance = float(re.findall(r'\\d+', line)[0])\n",
    "        \n",
    "        elif 'Zoonodle Inc' in line:\n",
    "            address = line.strip()\n",
    "    \n",
    "    return {\n",
    "        'employee_name': employee_name,\n",
    "        'basic_pay': basic_pay,\n",
    "        'net_pay': net_pay,\n",
    "        'house_rent_allowance': house_rent_allowance,\n",
    "        'address': address\n",
    "    }"
   ]
  },
  {
   "cell_type": "code",
   "execution_count": 27,
   "metadata": {},
   "outputs": [
    {
     "data": {
      "text/plain": [
       "{'employee_name': 'Sally Harley',\n",
       " 'basic_pay': 10000.0,\n",
       " 'net_pay': 9500.0,\n",
       " 'house_rent_allowance': 400.0,\n",
       " 'address': 'Zoonodle Inc'}"
      ]
     },
     "execution_count": 27,
     "metadata": {},
     "output_type": "execute_result"
    }
   ],
   "source": [
    "extract_payslip_info(text)"
   ]
  },
  {
   "cell_type": "code",
   "execution_count": null,
   "metadata": {},
   "outputs": [],
   "source": []
  }
 ],
 "metadata": {
  "kernelspec": {
   "display_name": "Python 3",
   "language": "python",
   "name": "python3"
  },
  "language_info": {
   "codemirror_mode": {
    "name": "ipython",
    "version": 3
   },
   "file_extension": ".py",
   "mimetype": "text/x-python",
   "name": "python",
   "nbconvert_exporter": "python",
   "pygments_lexer": "ipython3",
   "version": "3.10.4"
  }
 },
 "nbformat": 4,
 "nbformat_minor": 2
}
