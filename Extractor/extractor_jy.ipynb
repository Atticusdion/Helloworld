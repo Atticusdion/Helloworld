{
 "cells": [
  {
   "cell_type": "code",
   "execution_count": 10,
   "metadata": {},
   "outputs": [],
   "source": [
    "import pdfplumber\n",
    "import pandas as pd"
   ]
  },
  {
   "cell_type": "code",
   "execution_count": 4,
   "metadata": {},
   "outputs": [],
   "source": [
    "with pdfplumber.open('PaySlip1.pdf') as pdf:\n",
    "    # Extract text from the entire PDF\n",
    "    full_text = pdf.pages[0].extract_text()\n",
    "\n",
    "    # Extract text from a rectangular region\n",
    "    x1, y1, x2, y2 = 100, 100, 300, 200\n",
    "    cropped_text = pdf.pages[0].crop((x1, y1, x2, y2)).extract_text()"
   ]
  },
  {
   "cell_type": "code",
   "execution_count": 5,
   "metadata": {},
   "outputs": [
    {
     "name": "stdout",
     "output_type": "stream",
     "text": [
      "Payslip\n",
      "Zoonodle Inc\n",
      "21023 Pearson Point Road\n",
      "Gate Avenue\n",
      "Date of Joining : 2018-06-23 Employee Name : Sally Harley\n",
      "Pay Period : August 2021 Designation : Marketing Evecutive\n",
      "Worked Days 26 Department : Marketing\n",
      "Earnings Amount Deductions Amount\n",
      "Basic Pay 10000 Provident Fund 1200\n",
      "Icentive Pay 1000 Profesional Tax 500\n",
      "House Rent Allowance 400 Loan 400\n",
      "Meal Allowance 200\n",
      "Total Earnings 11600 Total Deductions 2100\n",
      "Net Pay 9500\n",
      "9500\n",
      "Nine Thousand Five Hundred\n",
      "Employer Signature Employee Signature\n",
      "This is system generated payslip\n"
     ]
    }
   ],
   "source": [
    "print(full_text)"
   ]
  },
  {
   "cell_type": "code",
   "execution_count": 15,
   "metadata": {},
   "outputs": [
    {
     "name": "stdout",
     "output_type": "stream",
     "text": [
      "[['Earnings', 'Amount', 'Deductions', 'Amount'], ['Basic Pay\\nIcentive Pay\\nHouse Rent Allowance\\nMeal Allowance\\nTotal Earnings', '10000\\n1000\\n400\\n200\\n11600', 'Provident Fund\\nProfesional Tax\\nLoan\\nTotal Deductions\\nNet Pay', '1200\\n500\\n400\\n2100\\n9500']]\n"
     ]
    },
    {
     "name": "stderr",
     "output_type": "stream",
     "text": [
      "C:\\Users\\Atticus Dion\\AppData\\Local\\Temp\\ipykernel_13660\\20831335.py:19: FutureWarning: As the xlwt package is no longer maintained, the xlwt engine will be removed in a future version of pandas. This is the only engine in pandas that supports writing in the xls format. Install openpyxl and write to an xlsx file instead. You can set the option io.excel.xls.writer to 'xlwt' to silence this warning. While this option is deprecated and will also raise a warning, it can be globally set and the warning suppressed.\n",
      "  df.to_excel('PaySlip1_table.xls', index = False, header = True)\n"
     ]
    }
   ],
   "source": [
    "with pdfplumber.open('PaySlip1.pdf') as pdf:\n",
    "    table = pdf.pages[0].extract_table()\n",
    "    print(table)\n",
    "\n",
    "rows = []\n",
    "\n",
    "for row in table[1:]:\n",
    "    subrows = [[] for _ in range(max(len(cell.split('\\n')) for cell in row))]\n",
    "    for i, cell in enumerate(row):\n",
    "        values =  cell.split('\\n')\n",
    "        for j, value in enumerate(values):\n",
    "            subrows[j].append(value)\n",
    "    \n",
    "    rows.extend(subrows)\n",
    "\n",
    "df = pd.DataFrame(rows, columns = table[0])\n",
    "\n",
    "df.to_csv('PaySlip1_table.csv', index = False)\n",
    "    "
   ]
  },
  {
   "cell_type": "code",
   "execution_count": null,
   "metadata": {},
   "outputs": [],
   "source": []
  }
 ],
 "metadata": {
  "kernelspec": {
   "display_name": "Python 3",
   "language": "python",
   "name": "python3"
  },
  "language_info": {
   "codemirror_mode": {
    "name": "ipython",
    "version": 3
   },
   "file_extension": ".py",
   "mimetype": "text/x-python",
   "name": "python",
   "nbconvert_exporter": "python",
   "pygments_lexer": "ipython3",
   "version": "3.10.4"
  }
 },
 "nbformat": 4,
 "nbformat_minor": 2
}
