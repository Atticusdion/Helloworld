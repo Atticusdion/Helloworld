{
 "cells": [
  {
   "cell_type": "code",
   "execution_count": null,
   "metadata": {},
   "outputs": [],
   "source": [
    "import os\n",
    "import PyPDF2\n",
    "import re"
   ]
  },
  {
   "cell_type": "code",
   "execution_count": null,
   "metadata": {},
   "outputs": [],
   "source": [
    "file_path = 'PaySlip1.pdf'\n",
    "\n",
    "file_name, file_ext = os.path.splitext(file_path.split(\"/\")[-1])\n",
    "file_ext = file_ext.strip('.')\n",
    "\n",
    "print(file_name, file_ext)\n",
    "    "
   ]
  },
  {
   "cell_type": "code",
   "execution_count": null,
   "metadata": {},
   "outputs": [],
   "source": [
    "invalid_chars = ['#', '@', '%', '&','$', '{', '}', '\\\\', '<', '>']\n",
    "\n",
    "invalid_chars_pattern = r'[' + r''.join(invalid_chars) + r']'\n",
    "\n",
    "if re.search(invalid_chars_pattern, file_name):\n",
    "    raise Exception(\"Error: Uploaded document name contains invalid file name\")"
   ]
  },
  {
   "cell_type": "code",
   "execution_count": null,
   "metadata": {},
   "outputs": [],
   "source": [
    "max_size = 20 * 1024 * 1024\n",
    "\n",
    "if os.path.getsize(file_path) > max_size:\n",
    "    raise Exception(\"Error: Uploaded document max size is 20 MB\")"
   ]
  },
  {
   "cell_type": "code",
   "execution_count": null,
   "metadata": {},
   "outputs": [],
   "source": [
    "allowed_ext = ['pdf', 'jpg', 'jpeg', 'png', 'tif']\n",
    "\n",
    "is_allowed = False\n",
    "\n",
    "for ext in allowed_ext:\n",
    "    if file_ext.lower() == ext:\n",
    "        is_allowed = True\n",
    "        break\n",
    "    \n",
    "if not is_allowed:           \n",
    "    raise Exception('Error: Uploaded document contains invalid file extension')\n",
    "    "
   ]
  },
  {
   "cell_type": "code",
   "execution_count": null,
   "metadata": {},
   "outputs": [],
   "source": [
    "if file_ext.lower() == \"pdf\":\n",
    "    with open(file_path, \"rb\") as file:\n",
    "\n",
    "        pdf_reader = PyPDF2.PdfReader(file)\n",
    "\n",
    "        if pdf_reader.is_encrypted:\n",
    "            raise Exception(\"Error: Uploaded document cannot be encrypted or password protected.\")"
   ]
  }
 ],
 "metadata": {
  "kernelspec": {
   "display_name": "Python 3",
   "language": "python",
   "name": "python3"
  },
  "language_info": {
   "codemirror_mode": {
    "name": "ipython",
    "version": 3
   },
   "file_extension": ".py",
   "mimetype": "text/x-python",
   "name": "python",
   "nbconvert_exporter": "python",
   "pygments_lexer": "ipython3",
   "version": "3.10.4"
  }
 },
 "nbformat": 4,
 "nbformat_minor": 2
}
