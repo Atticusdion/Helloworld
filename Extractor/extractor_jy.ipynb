{
 "cells": [
  {
   "cell_type": "code",
   "execution_count": 1,
   "metadata": {},
   "outputs": [],
   "source": [
    "from PIL import Image\n",
    "import pytesseract\n",
    "import re\n",
    "import os"
   ]
  },
  {
   "cell_type": "code",
   "execution_count": 2,
   "metadata": {},
   "outputs": [],
   "source": [
    "image = Image.open('E:\\Helloworld\\Extractor\\W2.jpg')"
   ]
  },
  {
   "cell_type": "code",
   "execution_count": 3,
   "metadata": {},
   "outputs": [],
   "source": [
    "pytesseract.pytesseract.tesseract_cmd = r'C:\\Program Files\\Tesseract-OCR\\tesseract.exe'"
   ]
  },
  {
   "cell_type": "code",
   "execution_count": 4,
   "metadata": {},
   "outputs": [],
   "source": [
    "ocr_text = pytesseract.image_to_string(image)"
   ]
  },
  {
   "cell_type": "code",
   "execution_count": 5,
   "metadata": {},
   "outputs": [],
   "source": [
    "def extract_w2_info(txt):\n",
    "  name_match = re.search(r\"2\\. Employee Name and Address\\.\\n(.*?)\\n(.*?)\\n(.*?)\\n\", txt, re.DOTALL)\n",
    "  wages_match = re.search(r\"Wages, Tips, other Compensation\\n.*?\\nGross Pay\\s+([0-9,.]+)\", txt, re.DOTALL)\n",
    "\n",
    "  if name_match:\n",
    "    # Split captured text by newlines and remove leading/trailing whitespaces\n",
    "    address_lines = [line.strip() for line in name_match.group(1).splitlines()]\n",
    "    # Combine address lines with comma and space separator (excluding first line)\n",
    "    address = \", \".join(address_lines[1:])  # Skip the first line (might contain line number)\n",
    "    if address_lines:\n",
    "      name = address_lines[0]  # Name is likely the first line\n",
    "    else:\n",
    "      name = None  # Set name to None if address_lines is empty\n",
    "  else:\n",
    "    name = None\n",
    "    address = None\n",
    "\n",
    "  if wages_match:\n",
    "    wages = wages_match.group(1)\n",
    "  else:\n",
    "    wages = None\n",
    "\n",
    "  return {\"name\": name, \"address\": address, \"wages\": wages}"
   ]
  },
  {
   "cell_type": "code",
   "execution_count": 7,
   "metadata": {},
   "outputs": [
    {
     "name": "stdout",
     "output_type": "stream",
     "text": [
      "Name: None\n",
      "Address: \n",
      "Wages: None\n"
     ]
    }
   ],
   "source": [
    "info = extract_w2_info(ocr_text)\n",
    "\n",
    "print(f\"Name: {info['name']}\")\n",
    "print(f\"Address: {info['address']}\")\n",
    "print(f\"Wages: {info['wages']}\")"
   ]
  },
  {
   "cell_type": "code",
   "execution_count": 8,
   "metadata": {},
   "outputs": [
    {
     "name": "stdout",
     "output_type": "stream",
     "text": [
      "rome a | JOHN SMITH\n",
      "qe 1 1234 S MAPLE ST, a1 ANYWHERE, CA 123456\n"
     ]
    }
   ],
   "source": [
    "employee_match = re.search(r\"2\\. Employee Name and Address\\.\\n(.*?)\\n(.*?)\\n(.*?)\\n(.*?)\\n\", ocr_text, re.DOTALL)\n",
    "\n",
    "name = employee_match.group(2).strip()\n",
    "address = f\"{employee_match.group(3).strip()}, {employee_match.group(4).strip()}\"\n",
    "print(name)\n",
    "print(address)\n",
    "\n"
   ]
  },
  {
   "cell_type": "code",
   "execution_count": 9,
   "metadata": {},
   "outputs": [
    {
     "name": "stdout",
     "output_type": "stream",
     "text": [
      "SAMPLE COMPANY INC\n",
      "123 MAIN ST, ANYWHERE, CA 123456 1234\n"
     ]
    }
   ],
   "source": [
    "employer_match = re.search(r\"© Employer's name, address, and ZIP code\\n(.*?)\\n(.*?)\\n(.*?)\\n\", ocr_text, re.DOTALL)\n",
    "\n",
    "employer_name = employer_match.group(1).strip()\n",
    "employer_address = f\"{employer_match.group(2).strip()}, {employer_match.group(3).strip()}\"\n",
    "print(employer_name)\n",
    "print(employer_address)"
   ]
  },
  {
   "cell_type": "code",
   "execution_count": 10,
   "metadata": {},
   "outputs": [
    {
     "name": "stdout",
     "output_type": "stream",
     "text": [
      "25,000.00\n"
     ]
    }
   ],
   "source": [
    "wages_match  = re.search(r'Pay\\s+(\\d+,\\d+\\.\\d+)', ocr_text)\n",
    "\n",
    "print(wages_match.group(1))"
   ]
  },
  {
   "cell_type": "code",
   "execution_count": null,
   "metadata": {},
   "outputs": [],
   "source": []
  }
 ],
 "metadata": {
  "kernelspec": {
   "display_name": "Python 3",
   "language": "python",
   "name": "python3"
  },
  "language_info": {
   "codemirror_mode": {
    "name": "ipython",
    "version": 3
   },
   "file_extension": ".py",
   "mimetype": "text/x-python",
   "name": "python",
   "nbconvert_exporter": "python",
   "pygments_lexer": "ipython3",
   "version": "3.10.4"
  }
 },
 "nbformat": 4,
 "nbformat_minor": 2
}
