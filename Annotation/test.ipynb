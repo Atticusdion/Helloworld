{
 "cells": [
  {
   "cell_type": "code",
   "execution_count": 2,
   "metadata": {},
   "outputs": [],
   "source": [
    "path = 'coding_qual_input.txt'"
   ]
  },
  {
   "cell_type": "code",
   "execution_count": 1,
   "metadata": {},
   "outputs": [],
   "source": [
    "def decode(message_file):\n",
    "\n",
    "    step = 1\n",
    "    pos = 1\n",
    "    code = \"\"\n",
    "\n",
    "    with open(message_file, 'r') as file:\n",
    "        \n",
    "        lines = file.readlines()\n",
    "\n",
    "        while pos <= len(lines):\n",
    "            \n",
    "            for line in lines:   \n",
    "                words = line.strip().split()\n",
    "\n",
    "                if words and int(words[0]) == pos:\n",
    "                    code = code + words[1] + \" \"\n",
    "\n",
    "            step += 1\n",
    "            pos += step\n",
    "\n",
    "    code = code.strip()\n",
    "    return code   "
   ]
  },
  {
   "cell_type": "code",
   "execution_count": 3,
   "metadata": {},
   "outputs": [
    {
     "data": {
      "text/plain": [
       "'design all skill whole check deal wish visit now moment offer planet people electric lot huge system card current man way our parent wait'"
      ]
     },
     "execution_count": 3,
     "metadata": {},
     "output_type": "execute_result"
    }
   ],
   "source": [
    "decode(path)"
   ]
  }
 ],
 "metadata": {
  "kernelspec": {
   "display_name": "Python 3",
   "language": "python",
   "name": "python3"
  },
  "language_info": {
   "codemirror_mode": {
    "name": "ipython",
    "version": 3
   },
   "file_extension": ".py",
   "mimetype": "text/x-python",
   "name": "python",
   "nbconvert_exporter": "python",
   "pygments_lexer": "ipython3",
   "version": "3.10.4"
  }
 },
 "nbformat": 4,
 "nbformat_minor": 2
}
