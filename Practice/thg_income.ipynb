{
 "cells": [
  {
   "cell_type": "code",
   "execution_count": 1,
   "metadata": {},
   "outputs": [],
   "source": [
    "import numpy as np"
   ]
  },
  {
   "cell_type": "code",
   "execution_count": 47,
   "metadata": {},
   "outputs": [],
   "source": [
    "balance = 205.69\n",
    "rebate_total = 0"
   ]
  },
  {
   "cell_type": "code",
   "execution_count": 48,
   "metadata": {},
   "outputs": [
    {
     "name": "stdout",
     "output_type": "stream",
     "text": [
      "0.7485625494704333\n",
      "0.8138548652453089\n",
      "0.827852338301585\n",
      "0.6879188149544982\n",
      "0.7638189839118686\n",
      "0.746775252848562\n",
      "0.6523369992028749\n",
      "0.8897385221625861\n",
      "0.7573315655717382\n",
      "0.7047646713776072\n",
      "0.8223816331850854\n",
      "0.6586370721399804\n",
      "0.6789395918719805\n",
      "0.8765430848581014\n",
      "0.8413814600868819\n",
      "0.7107609414766964\n",
      "0.7118013208409507\n",
      "0.7674282407063223\n",
      "0.7561128841704416\n",
      "0.8191864671752785\n",
      "0.82024069765694\n",
      "0.7732481606515423\n",
      "0.8766011691772772\n",
      "0.8870374305601443\n",
      "0.6704894002721112\n",
      "0.7101804802027458\n",
      "0.6768006951157051\n",
      "0.8791032912642607\n",
      "0.731242366262171\n",
      "0.6588111784633093\n",
      "0.6743225269875368\n",
      "0.7161599530817161\n",
      "0.7289654247533497\n",
      "0.6619015400503547\n",
      "0.7253086429163359\n",
      "0.7525317783964074\n"
     ]
    }
   ],
   "source": [
    "for i in range(36):\n",
    "    rndm = np.random.uniform(0.65, 0.90)\n",
    "    print(rndm)\n",
    "    trip  = balance * rndm\n",
    "    rebate = trip * 0.0075\n",
    "    rebate_total += rebate\n",
    "    balance += rebate"
   ]
  },
  {
   "cell_type": "code",
   "execution_count": 49,
   "metadata": {},
   "outputs": [
    {
     "name": "stdout",
     "output_type": "stream",
     "text": [
      "252.05138909070064 46.361389090700676\n"
     ]
    }
   ],
   "source": [
    "print(balance, rebate_total)"
   ]
  },
  {
   "cell_type": "code",
   "execution_count": 46,
   "metadata": {},
   "outputs": [
    {
     "name": "stdout",
     "output_type": "stream",
     "text": [
      "Random Ethereum wallet address: 0xfaf9d48f904105b46034e3461deda6b05410c236\n"
     ]
    }
   ],
   "source": [
    "import secrets\n",
    "import hashlib\n",
    "\n",
    "def generate_random_address():\n",
    "    # Generate a random private key\n",
    "    priv_key = secrets.token_hex(32)\n",
    "    \n",
    "    # Convert the private key to bytes\n",
    "    priv_key_bytes = bytes.fromhex(priv_key)\n",
    "    \n",
    "    # Calculate the public key\n",
    "    pub_key = hashlib.sha256(priv_key_bytes).digest()\n",
    "    \n",
    "    # Calculate the Ethereum address\n",
    "    address = '0x' + hashlib.sha3_256(pub_key[26:]).digest()[-20:].hex()\n",
    "    \n",
    "    return address\n",
    "\n",
    "# Generate and print a random Ethereum wallet address\n",
    "random_address = generate_random_address()\n",
    "print(f\"Random Ethereum wallet address: {random_address}\")"
   ]
  }
 ],
 "metadata": {
  "kernelspec": {
   "display_name": "Python 3",
   "language": "python",
   "name": "python3"
  },
  "language_info": {
   "codemirror_mode": {
    "name": "ipython",
    "version": 3
   },
   "file_extension": ".py",
   "mimetype": "text/x-python",
   "name": "python",
   "nbconvert_exporter": "python",
   "pygments_lexer": "ipython3",
   "version": "3.10.4"
  }
 },
 "nbformat": 4,
 "nbformat_minor": 2
}
